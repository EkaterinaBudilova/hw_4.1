{
 "cells": [
  {
   "cell_type": "markdown",
   "metadata": {},
   "source": [
    "# Домашняя работа № 4.1"
   ]
  },
  {
   "cell_type": "markdown",
   "metadata": {},
   "source": [
    "## Задание №1"
   ]
  },
  {
   "cell_type": "code",
   "execution_count": 267,
   "metadata": {
    "collapsed": false
   },
   "outputs": [],
   "source": [
    "import pandas as pd\n",
    "import numpy as np\n",
    "import os"
   ]
  },
  {
   "cell_type": "code",
   "execution_count": 2,
   "metadata": {
    "collapsed": false
   },
   "outputs": [],
   "source": [
    "data_path = os.path.join(os.getcwd(), 'names') # В переменной формируется путь к папке с файлами"
   ]
  },
  {
   "cell_type": "code",
   "execution_count": 241,
   "metadata": {
    "collapsed": false
   },
   "outputs": [],
   "source": [
    "def open_file(year):\n",
    "    '''Функция считывает данные за указанный год из файла и формирует DataFrame'''\n",
    "    file_name = 'yob' + str(year) + '.txt'\n",
    "    names = pd.read_csv(os.path.join(data_path, file_name), \n",
    "                        names=['Name', 'Gender', 'Count'])\n",
    "    return names"
   ]
  },
  {
   "cell_type": "code",
   "execution_count": 224,
   "metadata": {
    "collapsed": false
   },
   "outputs": [],
   "source": [
    "def get_df(year):\n",
    "    '''Функция формирует общий DataFrame за указанные года'''\n",
    "    df = open_file(year[0])\n",
    "    if len(year) > 1:\n",
    "        for i in year[1:]:\n",
    "            new_df = open_file(i)\n",
    "            df = df.merge(new_df, on=['Name', 'Gender'], how='outer')\n",
    "    return df.fillna(0)"
   ]
  },
  {
   "cell_type": "code",
   "execution_count": 225,
   "metadata": {
    "collapsed": false
   },
   "outputs": [],
   "source": [
    "def top_3(year):\n",
    "    '''Функция выводит список из 3-х наиболее популярных имен за выбранные года'''\n",
    "    result = get_df(year=year)\n",
    "    result = pd.DataFrame({'Name':result.Name, \n",
    "                           'Gender':result.Gender,\n",
    "                           'Count':result.iloc[:,2:].sum(axis=1)})\n",
    "    result = result.sort_values(by='Count', ascending=False)\n",
    "    return result.Name[0:3].tolist()"
   ]
  },
  {
   "cell_type": "code",
   "execution_count": 226,
   "metadata": {
    "collapsed": false
   },
   "outputs": [
    {
     "name": "stdout",
     "output_type": "stream",
     "text": [
      "['John', 'William', 'Mary']\n"
     ]
    }
   ],
   "source": [
    "print(top_3([1881,1882,1883,1884,1885,1886]))"
   ]
  },
  {
   "cell_type": "markdown",
   "metadata": {},
   "source": [
    "## Задание №2"
   ]
  },
  {
   "cell_type": "code",
   "execution_count": 248,
   "metadata": {
    "collapsed": false
   },
   "outputs": [],
   "source": [
    "def get_dynamics(year):\n",
    "    '''Функция вычисляет количество имён относительно каждого пола за год'''\n",
    "    df = open_file(year)\n",
    "    F = df[df.Gender=='F'].Count.sum()\n",
    "    M = df[df.Gender=='M'].Count.sum()\n",
    "    return {'F':[F],'M':[M]}"
   ]
  },
  {
   "cell_type": "code",
   "execution_count": 263,
   "metadata": {
    "collapsed": false
   },
   "outputs": [],
   "source": [
    "def dynamics(years):\n",
    "    '''Функция формирует словарь с количеством имён за каждый год'''\n",
    "    dynamics = {'F':[], 'M':[]}\n",
    "    for i in years:\n",
    "        dynamic = get_dynamics(i)\n",
    "        dynamics['F'].append(dynamic['F'])\n",
    "        dynamics['M'].append(dynamic['M'])\n",
    "    return dynamics"
   ]
  },
  {
   "cell_type": "code",
   "execution_count": 264,
   "metadata": {
    "collapsed": false
   },
   "outputs": [
    {
     "data": {
      "text/plain": [
       "{'F': [91953, 107847, 112318, 129020, 133055, 144533],\n",
       " 'M': [100743, 113686, 104627, 114443, 107799, 110784]}"
      ]
     },
     "execution_count": 264,
     "metadata": {},
     "output_type": "execute_result"
    }
   ],
   "source": [
    "dynamics([1881,1882,1883,1884,1885,1886])"
   ]
  }
 ],
 "metadata": {
  "kernelspec": {
   "display_name": "Python 3",
   "language": "python",
   "name": "python3"
  },
  "language_info": {
   "codemirror_mode": {
    "name": "ipython",
    "version": 3.0
   },
   "file_extension": ".py",
   "mimetype": "text/x-python",
   "name": "python",
   "nbconvert_exporter": "python",
   "pygments_lexer": "ipython3",
   "version": "3.6.0"
  }
 },
 "nbformat": 4,
 "nbformat_minor": 0
}